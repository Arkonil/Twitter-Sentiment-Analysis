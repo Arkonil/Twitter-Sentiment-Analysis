{
  "cells": [
    {
      "cell_type": "markdown",
      "metadata": {
        "id": "xMXw1lWtvOaA"
      },
      "source": [
        "# Installing Dependencies"
      ]
    },
    {
      "cell_type": "code",
      "execution_count": 2,
      "metadata": {
        "id": "4YnYspKPvXIO"
      },
      "outputs": [],
      "source": [
        "import os\n",
        "import shutil\n",
        "import datetime\n",
        "\n",
        "import pandas as pd\n",
        "import snscrape.modules.twitter as sntwt\n",
        "from snscrape.base import ScraperException\n",
        "\n",
        "from tqdm import tqdm\n",
        "\n",
        "project_path = \"..\""
      ]
    },
    {
      "cell_type": "markdown",
      "metadata": {},
      "source": [
        "# Defining Required Functions"
      ]
    },
    {
      "cell_type": "code",
      "execution_count": null,
      "metadata": {
        "id": "wXhO0HJIzMEu"
      },
      "outputs": [],
      "source": [
        "class DummyProgressBar:\n",
        "    def update(self, n=1): pass\n",
        "    def close(self): pass\n",
        "\n",
        "def get_new_path(path):\n",
        "    if not os.path.isfile(path):\n",
        "        return path\n",
        "    suffix = 1\n",
        "    name, ext = path.rsplit('.', 1)\n",
        "    while True:\n",
        "        path = f\"{name} ({suffix}).{ext}\"\n",
        "        if not os.path.isfile(path):\n",
        "            return path\n",
        "        suffix += 1\n",
        "\n",
        "def get_tweets_of_day(keyword: str, date: datetime.datetime, directory: str, verbose: bool = False, \n",
        "                      max_number: int = -1):\n",
        "    if max_number == -1:\n",
        "        max_number = float('inf')\n",
        "\n",
        "    if not os.path.isdir(directory):\n",
        "        os.makedirs(directory)\n",
        "\n",
        "    start_date = date.strftime(\"%Y-%m-%d\")\n",
        "    end_date = (date + datetime.timedelta(days=1)).strftime(\"%Y-%m-%d\")\n",
        "    TWEET_PER_FILE = 10000\n",
        "\n",
        "    tweets = pd.DataFrame(columns=['url', 'date', 'content', 'tweet_id', 'user_id'])\n",
        "    tweet_count = 0\n",
        "    # users = pd.DataFrame(columns=['user_id', 'username'])\n",
        "\n",
        "    scraper = sntwt.TwitterSearchScraper(f\"{keyword} since:{start_date} until:{end_date}\")\n",
        "    tweet_generator = scraper.get_items()\n",
        "    generator_is_empty = False\n",
        "\n",
        "    progress_bar = tqdm() if verbose else DummyProgressBar()\n",
        "    try:\n",
        "        while True:\n",
        "            tweet_count = min(max_number, TWEET_PER_FILE)\n",
        "            tweets = tweets[0:0]\n",
        "\n",
        "            for _ in range(tweet_count):\n",
        "                try:\n",
        "                    tweet = next(tweet_generator)\n",
        "                    tweets = tweets.append({\n",
        "                        'url': tweet.url, \n",
        "                        'date': tweet.date, \n",
        "                        'content': tweet.content, \n",
        "                        'tweet_id': str(tweet.id), \n",
        "                        'user_id': tweet.username\n",
        "                    }, ignore_index=True)\n",
        "                    progress_bar.update()\n",
        "                    tweet_count += 1\n",
        "                except StopIteration:\n",
        "                    generator_is_empty = True\n",
        "                    break\n",
        "\n",
        "            file_name = os.path.join(directory, f\"{tweet.date.strftime('%Y-%m-%d %H-%M-%S')}.csv\")\n",
        "            file_name = get_new_path(file_name)\n",
        "            tweets.to_csv(file_name, index=False)\n",
        "            \n",
        "            if max_number < TWEET_PER_FILE or generator_is_empty:\n",
        "                break\n",
        "            \n",
        "            max_number -= TWEET_PER_FILE\n",
        "        \n",
        "        progress_bar.close()\n",
        "    except KeyboardInterrupt as error:\n",
        "        progress_bar.close()\n",
        "        raise error\n",
        "    except ScraperException as error:\n",
        "        progress_bar.close()\n",
        "        print(f\"Error occured on date: {start_date}\")\n",
        "        print(f\"Number of tweets downloaded: {tweet_count}\")\n",
        "        print(f\"Last time: {tweet.date.strftime('%Y-%m-%d %H-%M-%S')}\")\n",
        "        print()\n",
        "        print(error)\n",
        "    \n",
        "    shutil.make_archive(f'{keyword} {start_date}', 'zip', directory)\n",
        "    \n",
        "    if os.path.isfile(f'{keyword} {start_date}.zip'):\n",
        "        shutil.rmtree(directory)\n",
        "\n",
        "    shutil.copy2(f'{keyword} {start_date}.zip', os.path.join(project_path, 'data'))\n",
        "    os.remove(f'{keyword} {start_date}.zip')\n"
      ]
    },
    {
      "cell_type": "markdown",
      "metadata": {},
      "source": [
        "# Collecting Data"
      ]
    },
    {
      "cell_type": "code",
      "execution_count": null,
      "metadata": {},
      "outputs": [],
      "source": [
        "# February 2022\n",
        "for d in range(24, 29):\n",
        "    get_tweets_of_day(\n",
        "        keyword='russia ukraine', \n",
        "        date=datetime.datetime(2022, 2, d), \n",
        "        directory='./data/russia ukraine', \n",
        "        verbose=True\n",
        "    )\n",
        "\n",
        "# March 2022\n",
        "for d in range(1, 10):\n",
        "    get_tweets_of_day(\n",
        "        keyword='russia ukraine', \n",
        "        date=datetime.datetime(2022, 3, 1), \n",
        "        directory='./data/russia ukraine', \n",
        "        verbose=True\n",
        "    )\n"
      ]
    }
  ],
  "metadata": {
    "colab": {
      "name": "Twitter Scraper.ipynb",
      "provenance": []
    },
    "kernelspec": {
      "display_name": "Python 3",
      "name": "python3"
    },
    "language_info": {
      "codemirror_mode": {
        "name": "ipython",
        "version": 3
      },
      "file_extension": ".py",
      "mimetype": "text/x-python",
      "name": "python",
      "nbconvert_exporter": "python",
      "pygments_lexer": "ipython3",
      "version": "3.9.6"
    }
  },
  "nbformat": 4,
  "nbformat_minor": 0
}
